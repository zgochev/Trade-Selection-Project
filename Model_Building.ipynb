{
 "cells": [
  {
   "cell_type": "markdown",
   "metadata": {},
   "source": [
    "<h1 style=\"font-size:42px; text-align:center; margin-bottom:30px;\"><span style=\"color:SteelBlue\">Module 3: </span>Classification Models</h1>\n",
    "<hr>\n",
    "\n",
    "### In this module we will:\n",
    "<br><hr id=\"toc\">\n",
    "1. [Import the train and test sets we saved in Module2](#import)\n",
    "2. [Build our model pipelines and tune hyperparameters](#pipelines)\n",
    "3. [Explore Model Stacking](#stacker)\n",
    "4. [Select winning model](#best model)\n",
    "5. [Save Model for Future Use](#save model)"
   ]
  },
  {
   "cell_type": "code",
   "execution_count": 66,
   "metadata": {
    "collapsed": true
   },
   "outputs": [],
   "source": [
    "# Data Manipulation\n",
    "import numpy as np\n",
    "import pandas as pd\n",
    "\n",
    "#Data Visualization\n",
    "from matplotlib import pyplot as plt\n",
    "%matplotlib inline\n",
    "plt.style.use('ggplot')\n",
    "import seaborn as sns\n",
    "\n",
    "#Feature selection/transformation, Machine Learning\n",
    "from sklearn.preprocessing import StandardScaler\n",
    "from sklearn.preprocessing import MinMaxScaler\n",
    "#from sklearn.preprocessing import PowerTransformer, minmax_scale\n",
    "from sklearn.feature_selection import SelectFromModel\n",
    "\n",
    "#classification models to be used\n",
    "from sklearn import svm\n",
    "#from sklearn.svm import SVC\n",
    "from sklearn.linear_model import LogisticRegression\n",
    "from sklearn.ensemble import RandomForestClassifier, GradientBoostingClassifier\n",
    "from sklearn.neighbors import KNeighborsClassifier\n",
    "from sklearn.naive_bayes import GaussianNB \n",
    "from mlxtend.classifier import StackingClassifier\n",
    "from sklearn import model_selection\n",
    "\n",
    "# cross-validaion, hyperparameter tuning, classification performance\n",
    "from sklearn.model_selection import GridSearchCV\n",
    "from sklearn.pipeline import make_pipeline\n",
    "from sklearn.metrics import confusion_matrix\n",
    "from sklearn.metrics import roc_curve, auc\n",
    "# Pickle for saving model files\n",
    "import pickle\n",
    "import warnings\n",
    "warnings.filterwarnings('ignore')"
   ]
  },
  {
   "cell_type": "markdown",
   "metadata": {},
   "source": [
    "<br id=\"import\">\n",
    "## Import Data Sets From Module2\n",
    "<hr>"
   ]
  },
  {
   "cell_type": "code",
   "execution_count": 2,
   "metadata": {},
   "outputs": [
    {
     "data": {
      "text/html": [
       "<div>\n",
       "<style>\n",
       "    .dataframe thead tr:only-child th {\n",
       "        text-align: right;\n",
       "    }\n",
       "\n",
       "    .dataframe thead th {\n",
       "        text-align: left;\n",
       "    }\n",
       "\n",
       "    .dataframe tbody tr th {\n",
       "        vertical-align: top;\n",
       "    }\n",
       "</style>\n",
       "<table border=\"1\" class=\"dataframe\">\n",
       "  <thead>\n",
       "    <tr style=\"text-align: right;\">\n",
       "      <th></th>\n",
       "      <th>Date</th>\n",
       "      <th>PctRng5</th>\n",
       "      <th>PV2</th>\n",
       "      <th>PctD1</th>\n",
       "      <th>CumRet</th>\n",
       "      <th>TotVR</th>\n",
       "      <th>PctRng100</th>\n",
       "      <th>PctOHL</th>\n",
       "      <th>VS2</th>\n",
       "      <th>PV13</th>\n",
       "      <th>...</th>\n",
       "      <th>PV2_bcox</th>\n",
       "      <th>PctD1_bcox</th>\n",
       "      <th>CumRet_bcox</th>\n",
       "      <th>TotVR_bcox</th>\n",
       "      <th>PctRng100_bcox</th>\n",
       "      <th>PctOHL_bcox</th>\n",
       "      <th>VS2_bcox</th>\n",
       "      <th>PV13_bcox</th>\n",
       "      <th>VR1_bcox</th>\n",
       "      <th>Lrd_DV_bcox</th>\n",
       "    </tr>\n",
       "  </thead>\n",
       "  <tbody>\n",
       "    <tr>\n",
       "      <th>0</th>\n",
       "      <td>2004-03-31</td>\n",
       "      <td>0.566845</td>\n",
       "      <td>0.012197</td>\n",
       "      <td>0.475936</td>\n",
       "      <td>-0.003963</td>\n",
       "      <td>1.201205</td>\n",
       "      <td>1.218531</td>\n",
       "      <td>0.009434</td>\n",
       "      <td>0.349497</td>\n",
       "      <td>0.096541</td>\n",
       "      <td>...</td>\n",
       "      <td>0.019019</td>\n",
       "      <td>0.458133</td>\n",
       "      <td>0.357280</td>\n",
       "      <td>0.176496</td>\n",
       "      <td>0.069945</td>\n",
       "      <td>0.009287</td>\n",
       "      <td>0.251720</td>\n",
       "      <td>0.052710</td>\n",
       "      <td>0.044377</td>\n",
       "      <td>0.038029</td>\n",
       "    </tr>\n",
       "    <tr>\n",
       "      <th>1</th>\n",
       "      <td>2004-04-06</td>\n",
       "      <td>0.513514</td>\n",
       "      <td>0.095890</td>\n",
       "      <td>0.130631</td>\n",
       "      <td>0.000789</td>\n",
       "      <td>0.904435</td>\n",
       "      <td>1.278744</td>\n",
       "      <td>0.149123</td>\n",
       "      <td>0.443065</td>\n",
       "      <td>0.008476</td>\n",
       "      <td>...</td>\n",
       "      <td>0.110280</td>\n",
       "      <td>0.375328</td>\n",
       "      <td>0.358934</td>\n",
       "      <td>0.142481</td>\n",
       "      <td>0.072130</td>\n",
       "      <td>0.118617</td>\n",
       "      <td>0.296856</td>\n",
       "      <td>0.008642</td>\n",
       "      <td>0.077064</td>\n",
       "      <td>0.037723</td>\n",
       "    </tr>\n",
       "    <tr>\n",
       "      <th>2</th>\n",
       "      <td>2004-04-07</td>\n",
       "      <td>0.412429</td>\n",
       "      <td>0.020684</td>\n",
       "      <td>0.129944</td>\n",
       "      <td>0.002133</td>\n",
       "      <td>0.659084</td>\n",
       "      <td>0.811833</td>\n",
       "      <td>0.589041</td>\n",
       "      <td>0.147982</td>\n",
       "      <td>0.202630</td>\n",
       "      <td>...</td>\n",
       "      <td>0.031212</td>\n",
       "      <td>0.375164</td>\n",
       "      <td>0.359401</td>\n",
       "      <td>0.110331</td>\n",
       "      <td>0.050319</td>\n",
       "      <td>0.282482</td>\n",
       "      <td>0.126710</td>\n",
       "      <td>0.064832</td>\n",
       "      <td>0.091807</td>\n",
       "      <td>0.038433</td>\n",
       "    </tr>\n",
       "    <tr>\n",
       "      <th>3</th>\n",
       "      <td>2004-04-21</td>\n",
       "      <td>0.425856</td>\n",
       "      <td>0.032548</td>\n",
       "      <td>-0.311787</td>\n",
       "      <td>0.018749</td>\n",
       "      <td>1.225677</td>\n",
       "      <td>1.179071</td>\n",
       "      <td>0.455357</td>\n",
       "      <td>0.064760</td>\n",
       "      <td>0.044511</td>\n",
       "      <td>...</td>\n",
       "      <td>0.046921</td>\n",
       "      <td>0.269841</td>\n",
       "      <td>0.365164</td>\n",
       "      <td>0.179091</td>\n",
       "      <td>0.068428</td>\n",
       "      <td>0.249544</td>\n",
       "      <td>0.059766</td>\n",
       "      <td>0.034309</td>\n",
       "      <td>0.138044</td>\n",
       "      <td>0.040936</td>\n",
       "    </tr>\n",
       "    <tr>\n",
       "      <th>4</th>\n",
       "      <td>2004-04-22</td>\n",
       "      <td>0.418033</td>\n",
       "      <td>0.093742</td>\n",
       "      <td>-0.159836</td>\n",
       "      <td>0.013601</td>\n",
       "      <td>1.142937</td>\n",
       "      <td>1.068175</td>\n",
       "      <td>0.647059</td>\n",
       "      <td>0.444562</td>\n",
       "      <td>0.013363</td>\n",
       "      <td>...</td>\n",
       "      <td>0.108585</td>\n",
       "      <td>0.305992</td>\n",
       "      <td>0.363381</td>\n",
       "      <td>0.170195</td>\n",
       "      <td>0.063769</td>\n",
       "      <td>0.294090</td>\n",
       "      <td>0.297526</td>\n",
       "      <td>0.013090</td>\n",
       "      <td>0.045150</td>\n",
       "      <td>0.039036</td>\n",
       "    </tr>\n",
       "  </tbody>\n",
       "</table>\n",
       "<p>5 rows × 23 columns</p>\n",
       "</div>"
      ],
      "text/plain": [
       "         Date   PctRng5       PV2     PctD1    CumRet     TotVR  PctRng100  \\\n",
       "0  2004-03-31  0.566845  0.012197  0.475936 -0.003963  1.201205   1.218531   \n",
       "1  2004-04-06  0.513514  0.095890  0.130631  0.000789  0.904435   1.278744   \n",
       "2  2004-04-07  0.412429  0.020684  0.129944  0.002133  0.659084   0.811833   \n",
       "3  2004-04-21  0.425856  0.032548 -0.311787  0.018749  1.225677   1.179071   \n",
       "4  2004-04-22  0.418033  0.093742 -0.159836  0.013601  1.142937   1.068175   \n",
       "\n",
       "     PctOHL       VS2      PV13     ...       PV2_bcox  PctD1_bcox  \\\n",
       "0  0.009434  0.349497  0.096541     ...       0.019019    0.458133   \n",
       "1  0.149123  0.443065  0.008476     ...       0.110280    0.375328   \n",
       "2  0.589041  0.147982  0.202630     ...       0.031212    0.375164   \n",
       "3  0.455357  0.064760  0.044511     ...       0.046921    0.269841   \n",
       "4  0.647059  0.444562  0.013363     ...       0.108585    0.305992   \n",
       "\n",
       "   CumRet_bcox  TotVR_bcox  PctRng100_bcox  PctOHL_bcox  VS2_bcox  PV13_bcox  \\\n",
       "0     0.357280    0.176496        0.069945     0.009287  0.251720   0.052710   \n",
       "1     0.358934    0.142481        0.072130     0.118617  0.296856   0.008642   \n",
       "2     0.359401    0.110331        0.050319     0.282482  0.126710   0.064832   \n",
       "3     0.365164    0.179091        0.068428     0.249544  0.059766   0.034309   \n",
       "4     0.363381    0.170195        0.063769     0.294090  0.297526   0.013090   \n",
       "\n",
       "   VR1_bcox  Lrd_DV_bcox  \n",
       "0  0.044377     0.038029  \n",
       "1  0.077064     0.037723  \n",
       "2  0.091807     0.038433  \n",
       "3  0.138044     0.040936  \n",
       "4  0.045150     0.039036  \n",
       "\n",
       "[5 rows x 23 columns]"
      ]
     },
     "execution_count": 2,
     "metadata": {},
     "output_type": "execute_result"
    }
   ],
   "source": [
    "X_train = pd.read_csv('X_train.csv')\n",
    "X_train.head()"
   ]
  },
  {
   "cell_type": "code",
   "execution_count": 3,
   "metadata": {},
   "outputs": [
    {
     "data": {
      "text/html": [
       "<div>\n",
       "<style>\n",
       "    .dataframe thead tr:only-child th {\n",
       "        text-align: right;\n",
       "    }\n",
       "\n",
       "    .dataframe thead th {\n",
       "        text-align: left;\n",
       "    }\n",
       "\n",
       "    .dataframe tbody tr th {\n",
       "        vertical-align: top;\n",
       "    }\n",
       "</style>\n",
       "<table border=\"1\" class=\"dataframe\">\n",
       "  <thead>\n",
       "    <tr style=\"text-align: right;\">\n",
       "      <th></th>\n",
       "      <th>Date</th>\n",
       "      <th>PctRng5</th>\n",
       "      <th>PV2</th>\n",
       "      <th>PctD1</th>\n",
       "      <th>CumRet</th>\n",
       "      <th>TotVR</th>\n",
       "      <th>PctRng100</th>\n",
       "      <th>PctOHL</th>\n",
       "      <th>VS2</th>\n",
       "      <th>PV13</th>\n",
       "      <th>...</th>\n",
       "      <th>PV2_bcox</th>\n",
       "      <th>PctD1_bcox</th>\n",
       "      <th>CumRet_bcox</th>\n",
       "      <th>TotVR_bcox</th>\n",
       "      <th>PctRng100_bcox</th>\n",
       "      <th>PctOHL_bcox</th>\n",
       "      <th>VS2_bcox</th>\n",
       "      <th>PV13_bcox</th>\n",
       "      <th>VR1_bcox</th>\n",
       "      <th>Lrd_DV_bcox</th>\n",
       "    </tr>\n",
       "  </thead>\n",
       "  <tbody>\n",
       "    <tr>\n",
       "      <th>0</th>\n",
       "      <td>2014-01-02</td>\n",
       "      <td>0.625000</td>\n",
       "      <td>0.082411</td>\n",
       "      <td>-0.275000</td>\n",
       "      <td>0.084319</td>\n",
       "      <td>0.720529</td>\n",
       "      <td>0.876885</td>\n",
       "      <td>0.346667</td>\n",
       "      <td>0.131323</td>\n",
       "      <td>0.032846</td>\n",
       "      <td>...</td>\n",
       "      <td>0.099189</td>\n",
       "      <td>0.278585</td>\n",
       "      <td>0.387653</td>\n",
       "      <td>0.118763</td>\n",
       "      <td>0.054135</td>\n",
       "      <td>0.214234</td>\n",
       "      <td>0.114174</td>\n",
       "      <td>0.027609</td>\n",
       "      <td>0.118780</td>\n",
       "      <td>0.038632</td>\n",
       "    </tr>\n",
       "    <tr>\n",
       "      <th>1</th>\n",
       "      <td>2014-01-02</td>\n",
       "      <td>0.841667</td>\n",
       "      <td>0.029757</td>\n",
       "      <td>-0.058333</td>\n",
       "      <td>0.091375</td>\n",
       "      <td>0.827267</td>\n",
       "      <td>1.180872</td>\n",
       "      <td>0.257426</td>\n",
       "      <td>0.264228</td>\n",
       "      <td>0.035270</td>\n",
       "      <td>...</td>\n",
       "      <td>0.043358</td>\n",
       "      <td>0.330187</td>\n",
       "      <td>0.390049</td>\n",
       "      <td>0.132795</td>\n",
       "      <td>0.068499</td>\n",
       "      <td>0.177222</td>\n",
       "      <td>0.204157</td>\n",
       "      <td>0.029108</td>\n",
       "      <td>0.042552</td>\n",
       "      <td>0.038988</td>\n",
       "    </tr>\n",
       "    <tr>\n",
       "      <th>2</th>\n",
       "      <td>2014-01-03</td>\n",
       "      <td>0.950000</td>\n",
       "      <td>0.208139</td>\n",
       "      <td>0.458333</td>\n",
       "      <td>0.088207</td>\n",
       "      <td>1.483945</td>\n",
       "      <td>1.328981</td>\n",
       "      <td>0.192982</td>\n",
       "      <td>0.364446</td>\n",
       "      <td>0.017262</td>\n",
       "      <td>...</td>\n",
       "      <td>0.171607</td>\n",
       "      <td>0.453903</td>\n",
       "      <td>0.388974</td>\n",
       "      <td>0.204751</td>\n",
       "      <td>0.073840</td>\n",
       "      <td>0.144501</td>\n",
       "      <td>0.259388</td>\n",
       "      <td>0.016385</td>\n",
       "      <td>0.100695</td>\n",
       "      <td>0.035785</td>\n",
       "    </tr>\n",
       "    <tr>\n",
       "      <th>3</th>\n",
       "      <td>2014-01-07</td>\n",
       "      <td>0.440000</td>\n",
       "      <td>0.015391</td>\n",
       "      <td>0.234286</td>\n",
       "      <td>0.084271</td>\n",
       "      <td>1.282796</td>\n",
       "      <td>0.902379</td>\n",
       "      <td>0.064935</td>\n",
       "      <td>0.449544</td>\n",
       "      <td>0.015324</td>\n",
       "      <td>...</td>\n",
       "      <td>0.023707</td>\n",
       "      <td>0.400143</td>\n",
       "      <td>0.387636</td>\n",
       "      <td>0.185032</td>\n",
       "      <td>0.055550</td>\n",
       "      <td>0.058493</td>\n",
       "      <td>0.299745</td>\n",
       "      <td>0.014774</td>\n",
       "      <td>0.024878</td>\n",
       "      <td>0.037934</td>\n",
       "    </tr>\n",
       "    <tr>\n",
       "      <th>4</th>\n",
       "      <td>2014-01-10</td>\n",
       "      <td>0.905109</td>\n",
       "      <td>0.058915</td>\n",
       "      <td>0.635036</td>\n",
       "      <td>0.079087</td>\n",
       "      <td>1.992749</td>\n",
       "      <td>1.478479</td>\n",
       "      <td>0.137097</td>\n",
       "      <td>0.089753</td>\n",
       "      <td>0.049972</td>\n",
       "      <td>...</td>\n",
       "      <td>0.077013</td>\n",
       "      <td>0.496419</td>\n",
       "      <td>0.385873</td>\n",
       "      <td>0.247417</td>\n",
       "      <td>0.078382</td>\n",
       "      <td>0.110928</td>\n",
       "      <td>0.081051</td>\n",
       "      <td>0.037033</td>\n",
       "      <td>0.094066</td>\n",
       "      <td>0.040996</td>\n",
       "    </tr>\n",
       "  </tbody>\n",
       "</table>\n",
       "<p>5 rows × 23 columns</p>\n",
       "</div>"
      ],
      "text/plain": [
       "         Date   PctRng5       PV2     PctD1    CumRet     TotVR  PctRng100  \\\n",
       "0  2014-01-02  0.625000  0.082411 -0.275000  0.084319  0.720529   0.876885   \n",
       "1  2014-01-02  0.841667  0.029757 -0.058333  0.091375  0.827267   1.180872   \n",
       "2  2014-01-03  0.950000  0.208139  0.458333  0.088207  1.483945   1.328981   \n",
       "3  2014-01-07  0.440000  0.015391  0.234286  0.084271  1.282796   0.902379   \n",
       "4  2014-01-10  0.905109  0.058915  0.635036  0.079087  1.992749   1.478479   \n",
       "\n",
       "     PctOHL       VS2      PV13     ...       PV2_bcox  PctD1_bcox  \\\n",
       "0  0.346667  0.131323  0.032846     ...       0.099189    0.278585   \n",
       "1  0.257426  0.264228  0.035270     ...       0.043358    0.330187   \n",
       "2  0.192982  0.364446  0.017262     ...       0.171607    0.453903   \n",
       "3  0.064935  0.449544  0.015324     ...       0.023707    0.400143   \n",
       "4  0.137097  0.089753  0.049972     ...       0.077013    0.496419   \n",
       "\n",
       "   CumRet_bcox  TotVR_bcox  PctRng100_bcox  PctOHL_bcox  VS2_bcox  PV13_bcox  \\\n",
       "0     0.387653    0.118763        0.054135     0.214234  0.114174   0.027609   \n",
       "1     0.390049    0.132795        0.068499     0.177222  0.204157   0.029108   \n",
       "2     0.388974    0.204751        0.073840     0.144501  0.259388   0.016385   \n",
       "3     0.387636    0.185032        0.055550     0.058493  0.299745   0.014774   \n",
       "4     0.385873    0.247417        0.078382     0.110928  0.081051   0.037033   \n",
       "\n",
       "   VR1_bcox  Lrd_DV_bcox  \n",
       "0  0.118780     0.038632  \n",
       "1  0.042552     0.038988  \n",
       "2  0.100695     0.035785  \n",
       "3  0.024878     0.037934  \n",
       "4  0.094066     0.040996  \n",
       "\n",
       "[5 rows x 23 columns]"
      ]
     },
     "execution_count": 3,
     "metadata": {},
     "output_type": "execute_result"
    }
   ],
   "source": [
    "X_test = pd.read_csv('X_test.csv')\n",
    "X_test.head()"
   ]
  },
  {
   "cell_type": "code",
   "execution_count": 4,
   "metadata": {},
   "outputs": [
    {
     "data": {
      "text/html": [
       "<div>\n",
       "<style>\n",
       "    .dataframe thead tr:only-child th {\n",
       "        text-align: right;\n",
       "    }\n",
       "\n",
       "    .dataframe thead th {\n",
       "        text-align: left;\n",
       "    }\n",
       "\n",
       "    .dataframe tbody tr th {\n",
       "        vertical-align: top;\n",
       "    }\n",
       "</style>\n",
       "<table border=\"1\" class=\"dataframe\">\n",
       "  <thead>\n",
       "    <tr style=\"text-align: right;\">\n",
       "      <th></th>\n",
       "      <th>0</th>\n",
       "    </tr>\n",
       "  </thead>\n",
       "  <tbody>\n",
       "    <tr>\n",
       "      <th>0</th>\n",
       "      <td>1</td>\n",
       "    </tr>\n",
       "    <tr>\n",
       "      <th>1</th>\n",
       "      <td>1</td>\n",
       "    </tr>\n",
       "    <tr>\n",
       "      <th>2</th>\n",
       "      <td>1</td>\n",
       "    </tr>\n",
       "    <tr>\n",
       "      <th>3</th>\n",
       "      <td>0</td>\n",
       "    </tr>\n",
       "    <tr>\n",
       "      <th>4</th>\n",
       "      <td>0</td>\n",
       "    </tr>\n",
       "  </tbody>\n",
       "</table>\n",
       "</div>"
      ],
      "text/plain": [
       "   0\n",
       "0  1\n",
       "1  1\n",
       "2  1\n",
       "3  0\n",
       "4  0"
      ]
     },
     "execution_count": 4,
     "metadata": {},
     "output_type": "execute_result"
    }
   ],
   "source": [
    "y_train = pd.read_csv('Y_train.csv', header=None)\n",
    "y_train.head()"
   ]
  },
  {
   "cell_type": "code",
   "execution_count": 5,
   "metadata": {},
   "outputs": [
    {
     "data": {
      "text/html": [
       "<div>\n",
       "<style>\n",
       "    .dataframe thead tr:only-child th {\n",
       "        text-align: right;\n",
       "    }\n",
       "\n",
       "    .dataframe thead th {\n",
       "        text-align: left;\n",
       "    }\n",
       "\n",
       "    .dataframe tbody tr th {\n",
       "        vertical-align: top;\n",
       "    }\n",
       "</style>\n",
       "<table border=\"1\" class=\"dataframe\">\n",
       "  <thead>\n",
       "    <tr style=\"text-align: right;\">\n",
       "      <th></th>\n",
       "      <th>0</th>\n",
       "    </tr>\n",
       "  </thead>\n",
       "  <tbody>\n",
       "    <tr>\n",
       "      <th>0</th>\n",
       "      <td>1</td>\n",
       "    </tr>\n",
       "    <tr>\n",
       "      <th>1</th>\n",
       "      <td>0</td>\n",
       "    </tr>\n",
       "    <tr>\n",
       "      <th>2</th>\n",
       "      <td>0</td>\n",
       "    </tr>\n",
       "    <tr>\n",
       "      <th>3</th>\n",
       "      <td>0</td>\n",
       "    </tr>\n",
       "    <tr>\n",
       "      <th>4</th>\n",
       "      <td>1</td>\n",
       "    </tr>\n",
       "  </tbody>\n",
       "</table>\n",
       "</div>"
      ],
      "text/plain": [
       "   0\n",
       "0  1\n",
       "1  0\n",
       "2  0\n",
       "3  0\n",
       "4  1"
      ]
     },
     "execution_count": 5,
     "metadata": {},
     "output_type": "execute_result"
    }
   ],
   "source": [
    "y_test = pd.read_csv('Y_test.csv', header=None)\n",
    "y_test.head()"
   ]
  },
  {
   "cell_type": "code",
   "execution_count": 6,
   "metadata": {
    "collapsed": true
   },
   "outputs": [],
   "source": [
    "#Extract only transformed features\n",
    "bcox_cols = X_train.columns[X_train.columns.str.contains(pat='_bcox')]\n",
    "X_train_bcox = X_train[bcox_cols]\n",
    "X_test_bcox = X_test[bcox_cols]"
   ]
  },
  {
   "cell_type": "markdown",
   "metadata": {},
   "source": [
    "<hr style=\"border-color:royalblue;background-color:royalblue;height:1px;\">\n",
    "<div style=\"text-align:center; margin: 40px 0 40px 0;\">\n",
    "[**Back to Contents**](#toc)\n",
    "</div>"
   ]
  },
  {
   "cell_type": "markdown",
   "metadata": {},
   "source": [
    "<br id=\"pipelines\">\n",
    "## Build Model Pipelines\n",
    "<hr>"
   ]
  },
  {
   "cell_type": "code",
   "execution_count": 7,
   "metadata": {
    "collapsed": true
   },
   "outputs": [],
   "source": [
    "# Pipeline dictionary\n",
    "# This time we'll add an SVM and KNN classifiers\n",
    "pipeline_dict = {'l1': make_pipeline(StandardScaler(), LogisticRegression(penalty='l1', random_state=123)), \n",
    "                                     'l2': make_pipeline(StandardScaler(), LogisticRegression(penalty='l2', random_state=123)),\n",
    "                                     'rf': make_pipeline(StandardScaler(), RandomForestClassifier(random_state=123)),\n",
    "                                     'gb': make_pipeline(StandardScaler(), GradientBoostingClassifier(random_state=123)),\n",
    "                                    'svm':make_pipeline(StandardScaler(), svm.SVC(random_state=123)),\n",
    "                                     'knn':make_pipeline(StandardScaler(), KNeighborsClassifier())\n",
    "                }"
   ]
  },
  {
   "cell_type": "code",
   "execution_count": 8,
   "metadata": {
    "collapsed": true
   },
   "outputs": [],
   "source": [
    "# Logistic Regression hyperparameters\n",
    "l1_hyperparameters = { 'logisticregression__C': [0.001,0.01,0.1]}\n",
    "l2_hyperparameters = { 'logisticregression__C': [0.001,0.01,0.1]}"
   ]
  },
  {
   "cell_type": "code",
   "execution_count": 9,
   "metadata": {
    "collapsed": true
   },
   "outputs": [],
   "source": [
    "# Random Forest hyperparameters\n",
    "rf_hyperparameters = { 'randomforestclassifier__n_estimators': [100, 200],\n",
    "                         'randomforestclassifier__max_features': ['auto', 'sqrt', 0.33]}"
   ]
  },
  {
   "cell_type": "code",
   "execution_count": 10,
   "metadata": {
    "collapsed": true
   },
   "outputs": [],
   "source": [
    "gb_hyperparameters = {'gradientboostingclassifier__n_estimators': [100, 200], \n",
    "                    'gradientboostingclassifier__learning_rate': [0.05, 0.1, 0.2], \n",
    "                     'gradientboostingclassifier__max_depth': [1, 3, 5]}"
   ]
  },
  {
   "cell_type": "code",
   "execution_count": 11,
   "metadata": {
    "collapsed": true
   },
   "outputs": [],
   "source": [
    "#memory intensive, we'll only test k=1000\n",
    "knn_hyperparameters = { 'kneighborsclassifier__n_neighbors': [1000]}"
   ]
  },
  {
   "cell_type": "code",
   "execution_count": 12,
   "metadata": {
    "collapsed": true
   },
   "outputs": [],
   "source": [
    "svm_hyperparameters = { 'svc__C': [0.01, 0.1],\n",
    "                        'svc__gamma': [ 0.01, 0.1]}"
   ]
  },
  {
   "cell_type": "code",
   "execution_count": 13,
   "metadata": {
    "collapsed": true
   },
   "outputs": [],
   "source": [
    "# Create hyperparameters dictionary\n",
    "hp_dict = { 'l1': l1_hyperparameters, 'l2' : l2_hyperparameters, 'rf': rf_hyperparameters, 'gb': gb_hyperparameters,\n",
    "           'svm': svm_hyperparameters,'knn' : knn_hyperparameters}"
   ]
  },
  {
   "cell_type": "code",
   "execution_count": 14,
   "metadata": {},
   "outputs": [
    {
     "name": "stdout",
     "output_type": "stream",
     "text": [
      "l1 has been fitted\n",
      "l2 has been fitted\n",
      "rf has been fitted\n",
      "gb has been fitted\n",
      "svm has been fitted\n",
      "knn has been fitted\n"
     ]
    }
   ],
   "source": [
    "#TAKES 15-20 min on 8 core 16G memory machine\n",
    "\n",
    "# Create empty dictionary called fitted_models\n",
    "fitted_models_bcox = {}\n",
    "\n",
    "# Loop through model pipelines, tuning each one and saving it to fitted_models\n",
    "for name, pipeline in pipeline_dict.items(): \n",
    "    # Create cross-validation object from pipeline and hyperparameters\n",
    "    model_bcox = GridSearchCV(pipeline, hp_dict[name], cv=5, n_jobs=-1)\n",
    "    \n",
    "    # Fit model on X_train, y_train\n",
    "    model_bcox.fit(X_train_bcox, y_train)\n",
    "    \n",
    "    # Store model in fitted_models[name] \n",
    "    fitted_models_bcox[name] = model_bcox\n",
    "    \n",
    "    # Print '{name} has been fitted'\n",
    "    print(name, 'has been fitted')"
   ]
  },
  {
   "cell_type": "code",
   "execution_count": 15,
   "metadata": {},
   "outputs": [
    {
     "name": "stdout",
     "output_type": "stream",
     "text": [
      "l1 0.547133741507143\n",
      "l2 0.5477279185719084\n",
      "rf 0.5334418352321165\n",
      "gb 0.5472887442196905\n",
      "svm 0.5488387713451652\n",
      "knn 0.5464103955152548\n"
     ]
    }
   ],
   "source": [
    "# Display best_score_ for each fitted model\n",
    "for name, model in fitted_models_bcox.items():\n",
    "    print(name, model.best_score_)"
   ]
  },
  {
   "cell_type": "markdown",
   "metadata": {},
   "source": [
    "<hr style=\"border-color:royalblue;background-color:royalblue;height:1px;\">\n",
    "<div style=\"text-align:center; margin: 40px 0 40px 0;\">\n",
    "[**Back to Contents**](#toc)\n",
    "</div>"
   ]
  },
  {
   "cell_type": "markdown",
   "metadata": {},
   "source": [
    "<br id=\"stacker\">\n",
    "## Explore model predictions correlation and potential for model stacking\n",
    "<hr>"
   ]
  },
  {
   "cell_type": "code",
   "execution_count": 19,
   "metadata": {},
   "outputs": [],
   "source": [
    "l1_pred = fitted_models_bcox['l1'].predict(X_train_bcox)\n",
    "l2_pred = fitted_models_bcox['l2'].predict(X_train_bcox)\n",
    "rf_pred = fitted_models_bcox['rf'].predict(X_train_bcox)\n",
    "gb_pred = fitted_models_bcox['gb'].predict(X_train_bcox)\n",
    "svm_pred = fitted_models_bcox['svm'].predict(X_train_bcox)\n",
    "knn_pred = fitted_models_bcox['knn'].predict(X_train_bcox)"
   ]
  },
  {
   "cell_type": "code",
   "execution_count": 20,
   "metadata": {},
   "outputs": [
    {
     "data": {
      "text/html": [
       "<div>\n",
       "<style>\n",
       "    .dataframe thead tr:only-child th {\n",
       "        text-align: right;\n",
       "    }\n",
       "\n",
       "    .dataframe thead th {\n",
       "        text-align: left;\n",
       "    }\n",
       "\n",
       "    .dataframe tbody tr th {\n",
       "        vertical-align: top;\n",
       "    }\n",
       "</style>\n",
       "<table border=\"1\" class=\"dataframe\">\n",
       "  <thead>\n",
       "    <tr style=\"text-align: right;\">\n",
       "      <th></th>\n",
       "      <th>gb</th>\n",
       "      <th>knn</th>\n",
       "      <th>l1</th>\n",
       "      <th>l2</th>\n",
       "      <th>rf</th>\n",
       "      <th>svm</th>\n",
       "    </tr>\n",
       "  </thead>\n",
       "  <tbody>\n",
       "    <tr>\n",
       "      <th>0</th>\n",
       "      <td>0</td>\n",
       "      <td>0</td>\n",
       "      <td>0</td>\n",
       "      <td>0</td>\n",
       "      <td>1</td>\n",
       "      <td>0</td>\n",
       "    </tr>\n",
       "    <tr>\n",
       "      <th>1</th>\n",
       "      <td>0</td>\n",
       "      <td>0</td>\n",
       "      <td>0</td>\n",
       "      <td>0</td>\n",
       "      <td>1</td>\n",
       "      <td>0</td>\n",
       "    </tr>\n",
       "    <tr>\n",
       "      <th>2</th>\n",
       "      <td>0</td>\n",
       "      <td>0</td>\n",
       "      <td>0</td>\n",
       "      <td>0</td>\n",
       "      <td>1</td>\n",
       "      <td>0</td>\n",
       "    </tr>\n",
       "    <tr>\n",
       "      <th>3</th>\n",
       "      <td>0</td>\n",
       "      <td>0</td>\n",
       "      <td>0</td>\n",
       "      <td>0</td>\n",
       "      <td>0</td>\n",
       "      <td>0</td>\n",
       "    </tr>\n",
       "    <tr>\n",
       "      <th>4</th>\n",
       "      <td>0</td>\n",
       "      <td>0</td>\n",
       "      <td>0</td>\n",
       "      <td>0</td>\n",
       "      <td>0</td>\n",
       "      <td>0</td>\n",
       "    </tr>\n",
       "  </tbody>\n",
       "</table>\n",
       "</div>"
      ],
      "text/plain": [
       "   gb  knn  l1  l2  rf  svm\n",
       "0   0    0   0   0   1    0\n",
       "1   0    0   0   0   1    0\n",
       "2   0    0   0   0   1    0\n",
       "3   0    0   0   0   0    0\n",
       "4   0    0   0   0   0    0"
      ]
     },
     "execution_count": 20,
     "metadata": {},
     "output_type": "execute_result"
    }
   ],
   "source": [
    "classifiers = ['l1','l2','rf','gb','svm','knn']\n",
    "classifier_preds = pd.DataFrame({'l1' : l1_pred, 'l2' : l2_pred, 'rf' : rf_pred, 'gb' : gb_pred,\n",
    "                                'svm' : svm_pred, 'knn' : knn_pred})\n",
    "classifier_preds.head()"
   ]
  },
  {
   "cell_type": "code",
   "execution_count": 21,
   "metadata": {},
   "outputs": [
    {
     "data": {
      "image/png": "[encoded data removed]",
      "text/plain": [
       "<matplotlib.figure.Figure at 0x1bcdbeb8>"
      ]
     },
     "metadata": {},
     "output_type": "display_data"
    }
   ],
   "source": [
    "colormap = plt.cm.RdBu\n",
    "plt.figure(figsize=(12,8))\n",
    "plt.title('Pearson Correlation of Classifiers', y=1.05, size=15)\n",
    "sns.heatmap(classifier_preds.astype(float).corr(),linewidths=0.1,vmax=1.0, \n",
    "        square=True, cmap=colormap, linecolor='white', annot=True)\n",
    "plt.tight_layout();"
   ]
  },
  {
   "cell_type": "markdown",
   "metadata": {},
   "source": [
    "### Predictions are correlated as expected but there is enough diversity to explore model stacking"
   ]
  },
  {
   "cell_type": "code",
   "execution_count": 23,
   "metadata": {},
   "outputs": [
    {
     "name": "stdout",
     "output_type": "stream",
     "text": [
      "l1 {'logisticregression__C': 0.1}\n",
      "l2 {'logisticregression__C': 0.01}\n",
      "rf {'randomforestclassifier__max_features': 'auto', 'randomforestclassifier__n_estimators': 200}\n",
      "gb {'gradientboostingclassifier__learning_rate': 0.05, 'gradientboostingclassifier__max_depth': 1, 'gradientboostingclassifier__n_estimators': 100}\n",
      "svm {'svc__C': 0.1, 'svc__gamma': 0.1}\n",
      "knn {'kneighborsclassifier__n_neighbors': 1000}\n"
     ]
    }
   ],
   "source": [
    "# Display best_params_ for each fitted model\n",
    "for name, model in fitted_models_bcox.items():\n",
    "    print(name, model.best_params_)"
   ]
  },
  {
   "cell_type": "code",
   "execution_count": 24,
   "metadata": {},
   "outputs": [
    {
     "name": "stdout",
     "output_type": "stream",
     "text": [
      "3-fold cross validation:\n",
      "\n",
      "Accuracy: 0.546 (+/- 0.004) [l1]\n",
      "Accuracy: 0.546 (+/- 0.003) [l2]\n",
      "Accuracy: 0.546 (+/- 0.002) [gb]\n",
      "Accuracy: 0.547 (+/- 0.000) [rf]\n",
      "Accuracy: 0.546 (+/- 0.002) [knn]\n",
      "Accuracy: 0.543 (+/- 0.003) [nb]\n",
      "Accuracy: 0.547 (+/- 0.003) [svm]\n",
      "Accuracy: 0.548 (+/- 0.002) [stacked_clf]\n"
     ]
    }
   ],
   "source": [
    "#fit models with optimal parameters then feed into a GBM StackingClassifier using CV and print accuracy\n",
    "scaler = StandardScaler()\n",
    "X_train_scaled = scaler.fit_transform(X_train_bcox)\n",
    "\n",
    "\n",
    "lr_l1 = LogisticRegression(C=0.1, penalty='l1', dual=False)\n",
    "lr_l2 = LogisticRegression(C=0.01, penalty='l2', dual=False)\n",
    "gb = GradientBoostingClassifier(n_estimators=100, learning_rate=0.05 ,max_depth=1, random_state=123)\n",
    "rf = RandomForestClassifier(n_estimators=200,max_depth=3,random_state=123)\n",
    "knn = KNeighborsClassifier(n_neighbors=1000)\n",
    "nb = GaussianNB()\n",
    "svm = svm.SVC(C=0.1, gamma=0.1)\n",
    "\n",
    "stacker = GradientBoostingClassifier()\n",
    "\n",
    "sclf = StackingClassifier(classifiers=[lr_l1,lr_l2,gb,rf,knn,nb,svm], \n",
    "                          meta_classifier=stacker)\n",
    "\n",
    "print('3-fold cross validation:\\n')\n",
    "\n",
    "for clf, label in zip([lr_l1,lr_l2,gb,rf,knn,nb,svm,sclf], ['l1', 'l2','gb','rf', 'knn','nb','svm','stacked_clf']):\n",
    "\n",
    "    scores = model_selection.cross_val_score(clf, X_train_scaled, y_train, \n",
    "                                              cv=3, scoring='accuracy')\n",
    "    print(\"Accuracy: %0.3f (+/- %0.3f) [%s]\" \n",
    "          % (scores.mean(), scores.std(), label))"
   ]
  },
  {
   "cell_type": "markdown",
   "metadata": {},
   "source": [
    "<hr style=\"border-color:royalblue;background-color:royalblue;height:1px;\">\n",
    "<div style=\"text-align:center; margin: 40px 0 40px 0;\">\n",
    "[**Back to Contents**](#toc)\n",
    "</div>"
   ]
  },
  {
   "cell_type": "markdown",
   "metadata": {},
   "source": [
    "<br id=\"best model\">\n",
    "## Model Selection and Evaluation\n",
    "<hr>"
   ]
  },
  {
   "cell_type": "markdown",
   "metadata": {},
   "source": [
    "#### All models accuracies are within 0.002. SVM and the StackedClassifier are technicaly the best but L2 Logistic regression is not far behind. With its simplicity to implement and transparancy we'll declare it the winner in our classifier 'horse race'.\n",
    "<hr>"
   ]
  },
  {
   "cell_type": "code",
   "execution_count": 55,
   "metadata": {},
   "outputs": [
    {
     "data": {
      "text/plain": [
       "array([0, 0, 1, 0, 1, 1, 0, 0, 0, 0], dtype=int64)"
      ]
     },
     "execution_count": 55,
     "metadata": {},
     "output_type": "execute_result"
    }
   ],
   "source": [
    "# Predict classes using L2-regularized logistic regression \n",
    "pred = fitted_models_bcox['l2'].predict(X_test_bcox)\n",
    "\n",
    "# Display first 10 predictions\n",
    "pred[:10]"
   ]
  },
  {
   "cell_type": "code",
   "execution_count": 56,
   "metadata": {},
   "outputs": [
    {
     "name": "stdout",
     "output_type": "stream",
     "text": [
      "[[6976 1745]\n",
      " [5102 1742]]\n"
     ]
    }
   ],
   "source": [
    "# Display confusion matrix for y_test and pred\n",
    "print (confusion_matrix(y_test, pred))"
   ]
  },
  {
   "cell_type": "code",
   "execution_count": 57,
   "metadata": {},
   "outputs": [
    {
     "data": {
      "text/plain": [
       "[0.47107959976816766,\n",
       " 0.4897164575702602,\n",
       " 0.5174131640014457,\n",
       " 0.42325465056473915,\n",
       " 0.5422815608595638,\n",
       " 0.5142892379954067,\n",
       " 0.46134008984683983,\n",
       " 0.4957372191715219,\n",
       " 0.43881862888251494,\n",
       " 0.48168155743343105]"
      ]
     },
     "execution_count": 57,
     "metadata": {},
     "output_type": "execute_result"
    }
   ],
   "source": [
    "# Predict PROBABILITIES using L1-regularized logistic regression\n",
    "pred_probs = fitted_models_bcox['l2'].predict_proba(X_test_bcox)\n",
    "\n",
    "# Get just the prediction for the positive class (1)\n",
    "pred_probs = [p[1] for p in pred_probs]\n",
    "\n",
    "# Display first 10 predictions\n",
    "pred_probs[:10]"
   ]
  },
  {
   "cell_type": "code",
   "execution_count": 58,
   "metadata": {
    "collapsed": true
   },
   "outputs": [],
   "source": [
    "# Calculate ROC curve from y_test and pred\n",
    "fpr, tpr, thresholds = roc_curve(y_test, pred_probs)"
   ]
  },
  {
   "cell_type": "code",
   "execution_count": 59,
   "metadata": {},
   "outputs": [
    {
     "data": {
      "text/html": [
       "<div>\n",
       "<style>\n",
       "    .dataframe thead tr:only-child th {\n",
       "        text-align: right;\n",
       "    }\n",
       "\n",
       "    .dataframe thead th {\n",
       "        text-align: left;\n",
       "    }\n",
       "\n",
       "    .dataframe tbody tr th {\n",
       "        vertical-align: top;\n",
       "    }\n",
       "</style>\n",
       "<table border=\"1\" class=\"dataframe\">\n",
       "  <thead>\n",
       "    <tr style=\"text-align: right;\">\n",
       "      <th></th>\n",
       "      <th>FPR</th>\n",
       "      <th>TPR</th>\n",
       "      <th>Thresholds</th>\n",
       "    </tr>\n",
       "  </thead>\n",
       "  <tbody>\n",
       "    <tr>\n",
       "      <th>7483</th>\n",
       "      <td>0.997707</td>\n",
       "      <td>0.999416</td>\n",
       "      <td>0.338775</td>\n",
       "    </tr>\n",
       "    <tr>\n",
       "      <th>7484</th>\n",
       "      <td>0.997821</td>\n",
       "      <td>0.999416</td>\n",
       "      <td>0.338766</td>\n",
       "    </tr>\n",
       "    <tr>\n",
       "      <th>7485</th>\n",
       "      <td>0.997821</td>\n",
       "      <td>0.999562</td>\n",
       "      <td>0.337288</td>\n",
       "    </tr>\n",
       "    <tr>\n",
       "      <th>7486</th>\n",
       "      <td>0.998509</td>\n",
       "      <td>0.999562</td>\n",
       "      <td>0.333775</td>\n",
       "    </tr>\n",
       "    <tr>\n",
       "      <th>7487</th>\n",
       "      <td>0.998509</td>\n",
       "      <td>0.999708</td>\n",
       "      <td>0.333457</td>\n",
       "    </tr>\n",
       "    <tr>\n",
       "      <th>7488</th>\n",
       "      <td>0.999197</td>\n",
       "      <td>0.999708</td>\n",
       "      <td>0.328380</td>\n",
       "    </tr>\n",
       "    <tr>\n",
       "      <th>7489</th>\n",
       "      <td>0.999197</td>\n",
       "      <td>0.999854</td>\n",
       "      <td>0.326325</td>\n",
       "    </tr>\n",
       "    <tr>\n",
       "      <th>7490</th>\n",
       "      <td>0.999656</td>\n",
       "      <td>0.999854</td>\n",
       "      <td>0.323416</td>\n",
       "    </tr>\n",
       "    <tr>\n",
       "      <th>7491</th>\n",
       "      <td>0.999656</td>\n",
       "      <td>1.000000</td>\n",
       "      <td>0.322733</td>\n",
       "    </tr>\n",
       "    <tr>\n",
       "      <th>7492</th>\n",
       "      <td>1.000000</td>\n",
       "      <td>1.000000</td>\n",
       "      <td>0.311961</td>\n",
       "    </tr>\n",
       "  </tbody>\n",
       "</table>\n",
       "</div>"
      ],
      "text/plain": [
       "           FPR       TPR  Thresholds\n",
       "7483  0.997707  0.999416    0.338775\n",
       "7484  0.997821  0.999416    0.338766\n",
       "7485  0.997821  0.999562    0.337288\n",
       "7486  0.998509  0.999562    0.333775\n",
       "7487  0.998509  0.999708    0.333457\n",
       "7488  0.999197  0.999708    0.328380\n",
       "7489  0.999197  0.999854    0.326325\n",
       "7490  0.999656  0.999854    0.323416\n",
       "7491  0.999656  1.000000    0.322733\n",
       "7492  1.000000  1.000000    0.311961"
      ]
     },
     "execution_count": 59,
     "metadata": {},
     "output_type": "execute_result"
    }
   ],
   "source": [
    "# Store fpr, tpr, thresholds in DataFrame and display last 10\n",
    "pd.DataFrame({'FPR': fpr, 'TPR': tpr, 'Thresholds': thresholds}).tail(10)"
   ]
  },
  {
   "cell_type": "code",
   "execution_count": 60,
   "metadata": {},
   "outputs": [
    {
     "data": {
      "image/png": "[encoded data removed]",
      "text/plain": [
       "<matplotlib.figure.Figure at 0x38773668>"
      ]
     },
     "metadata": {},
     "output_type": "display_data"
    }
   ],
   "source": [
    "# Initialize figure\n",
    "fig = plt.figure(figsize=(14,8))\n",
    "plt.title('Receiver Operating Characteristic')\n",
    "\n",
    "# Plot ROC curve\n",
    "plt.plot(fpr, tpr, label='L2')\n",
    "plt.legend(loc='lower right')\n",
    "\n",
    "# Diagonal 45 degree line\n",
    "plt.plot([0,1],[0,1], 'k--')\n",
    "\n",
    "# Axes limits and labels\n",
    "plt.xlim([-0.1, 1.1])\n",
    "plt.ylim([-0.1, 1.1])\n",
    "plt.ylabel('True Positive Rate')\n",
    "plt.xlabel('False Positive Rate')\n",
    "plt.show()"
   ]
  },
  {
   "cell_type": "code",
   "execution_count": 61,
   "metadata": {},
   "outputs": [
    {
     "name": "stdout",
     "output_type": "stream",
     "text": [
      "0.545045226624355\n"
     ]
    }
   ],
   "source": [
    "# Calculate ROC curve\n",
    "fpr, tpr, thresholds = roc_curve(y_test, pred_probs)\n",
    "# Calculate AUROC\n",
    "print(auc(fpr, tpr))"
   ]
  },
  {
   "cell_type": "code",
   "execution_count": 62,
   "metadata": {
    "collapsed": true
   },
   "outputs": [],
   "source": [
    "perf_table = pd.read_csv('sector_sym_prcRet.csv')"
   ]
  },
  {
   "cell_type": "code",
   "execution_count": 63,
   "metadata": {},
   "outputs": [
    {
     "data": {
      "text/html": [
       "<div>\n",
       "<style>\n",
       "    .dataframe thead tr:only-child th {\n",
       "        text-align: right;\n",
       "    }\n",
       "\n",
       "    .dataframe thead th {\n",
       "        text-align: left;\n",
       "    }\n",
       "\n",
       "    .dataframe tbody tr th {\n",
       "        vertical-align: top;\n",
       "    }\n",
       "</style>\n",
       "<table border=\"1\" class=\"dataframe\">\n",
       "  <thead>\n",
       "    <tr style=\"text-align: right;\">\n",
       "      <th></th>\n",
       "      <th>Date</th>\n",
       "      <th>Sector</th>\n",
       "      <th>Sym</th>\n",
       "      <th>PctRet</th>\n",
       "    </tr>\n",
       "  </thead>\n",
       "  <tbody>\n",
       "    <tr>\n",
       "      <th>0</th>\n",
       "      <td>2014-01-02</td>\n",
       "      <td>FX</td>\n",
       "      <td>AD</td>\n",
       "      <td>0.007056</td>\n",
       "    </tr>\n",
       "    <tr>\n",
       "      <th>1</th>\n",
       "      <td>2014-01-02</td>\n",
       "      <td>FX</td>\n",
       "      <td>AD</td>\n",
       "      <td>-0.003168</td>\n",
       "    </tr>\n",
       "    <tr>\n",
       "      <th>2</th>\n",
       "      <td>2014-01-03</td>\n",
       "      <td>FX</td>\n",
       "      <td>AD</td>\n",
       "      <td>-0.003936</td>\n",
       "    </tr>\n",
       "    <tr>\n",
       "      <th>3</th>\n",
       "      <td>2014-01-07</td>\n",
       "      <td>FX</td>\n",
       "      <td>AD</td>\n",
       "      <td>-0.005184</td>\n",
       "    </tr>\n",
       "    <tr>\n",
       "      <th>4</th>\n",
       "      <td>2014-01-10</td>\n",
       "      <td>FX</td>\n",
       "      <td>AD</td>\n",
       "      <td>0.002304</td>\n",
       "    </tr>\n",
       "  </tbody>\n",
       "</table>\n",
       "</div>"
      ],
      "text/plain": [
       "         Date Sector Sym    PctRet\n",
       "0  2014-01-02     FX  AD  0.007056\n",
       "1  2014-01-02     FX  AD -0.003168\n",
       "2  2014-01-03     FX  AD -0.003936\n",
       "3  2014-01-07     FX  AD -0.005184\n",
       "4  2014-01-10     FX  AD  0.002304"
      ]
     },
     "execution_count": 63,
     "metadata": {},
     "output_type": "execute_result"
    }
   ],
   "source": [
    "perf_table.head()"
   ]
  },
  {
   "cell_type": "code",
   "execution_count": 64,
   "metadata": {},
   "outputs": [
    {
     "data": {
      "text/html": [
       "<div>\n",
       "<style>\n",
       "    .dataframe thead tr:only-child th {\n",
       "        text-align: right;\n",
       "    }\n",
       "\n",
       "    .dataframe thead th {\n",
       "        text-align: left;\n",
       "    }\n",
       "\n",
       "    .dataframe tbody tr th {\n",
       "        vertical-align: top;\n",
       "    }\n",
       "</style>\n",
       "<table border=\"1\" class=\"dataframe\">\n",
       "  <thead>\n",
       "    <tr style=\"text-align: right;\">\n",
       "      <th></th>\n",
       "      <th>Date</th>\n",
       "      <th>Sector</th>\n",
       "      <th>Sym</th>\n",
       "      <th>PctRet</th>\n",
       "      <th>LR_L2_Pred</th>\n",
       "      <th>ActualRet</th>\n",
       "    </tr>\n",
       "  </thead>\n",
       "  <tbody>\n",
       "    <tr>\n",
       "      <th>0</th>\n",
       "      <td>2014-01-02</td>\n",
       "      <td>FX</td>\n",
       "      <td>AD</td>\n",
       "      <td>0.007056</td>\n",
       "      <td>0</td>\n",
       "      <td>0.000000</td>\n",
       "    </tr>\n",
       "    <tr>\n",
       "      <th>1</th>\n",
       "      <td>2014-01-02</td>\n",
       "      <td>FX</td>\n",
       "      <td>AD</td>\n",
       "      <td>-0.003168</td>\n",
       "      <td>0</td>\n",
       "      <td>-0.000000</td>\n",
       "    </tr>\n",
       "    <tr>\n",
       "      <th>2</th>\n",
       "      <td>2014-01-03</td>\n",
       "      <td>FX</td>\n",
       "      <td>AD</td>\n",
       "      <td>-0.003936</td>\n",
       "      <td>1</td>\n",
       "      <td>-0.003936</td>\n",
       "    </tr>\n",
       "    <tr>\n",
       "      <th>3</th>\n",
       "      <td>2014-01-07</td>\n",
       "      <td>FX</td>\n",
       "      <td>AD</td>\n",
       "      <td>-0.005184</td>\n",
       "      <td>0</td>\n",
       "      <td>-0.000000</td>\n",
       "    </tr>\n",
       "    <tr>\n",
       "      <th>4</th>\n",
       "      <td>2014-01-10</td>\n",
       "      <td>FX</td>\n",
       "      <td>AD</td>\n",
       "      <td>0.002304</td>\n",
       "      <td>1</td>\n",
       "      <td>0.002304</td>\n",
       "    </tr>\n",
       "  </tbody>\n",
       "</table>\n",
       "</div>"
      ],
      "text/plain": [
       "         Date Sector Sym    PctRet  LR_L2_Pred  ActualRet\n",
       "0  2014-01-02     FX  AD  0.007056           0   0.000000\n",
       "1  2014-01-02     FX  AD -0.003168           0  -0.000000\n",
       "2  2014-01-03     FX  AD -0.003936           1  -0.003936\n",
       "3  2014-01-07     FX  AD -0.005184           0  -0.000000\n",
       "4  2014-01-10     FX  AD  0.002304           1   0.002304"
      ]
     },
     "execution_count": 64,
     "metadata": {},
     "output_type": "execute_result"
    }
   ],
   "source": [
    "L2_pred = pd.Series(pred)\n",
    "perf_table['LR_L2_Pred'] = L2_pred\n",
    "perf_table['ActualRet'] = perf_table['PctRet'] * perf_table['LR_L2_Pred']\n",
    "perf_table.head()"
   ]
  },
  {
   "cell_type": "code",
   "execution_count": 71,
   "metadata": {},
   "outputs": [
    {
     "data": {
      "image/png": "[encoded data removed]",
      "text/plain": [
       "<matplotlib.figure.Figure at 0x3c205630>"
      ]
     },
     "metadata": {},
     "output_type": "display_data"
    }
   ],
   "source": [
    "daily_ret = perf_table.groupby('Date')['ActualRet'].sum()\n",
    "daily_ret.cumsum().plot(figsize=(14,8));"
   ]
  },
  {
   "cell_type": "markdown",
   "metadata": {},
   "source": [
    "<hr style=\"border-color:royalblue;background-color:royalblue;height:1px;\">\n",
    "<div style=\"text-align:center; margin: 40px 0 40px 0;\">\n",
    "[**Back to Contents**](#toc)\n",
    "</div>"
   ]
  },
  {
   "cell_type": "markdown",
   "metadata": {},
   "source": [
    "<br id=\"save model\">\n",
    "## Save model in pickle object\n",
    "<hr>"
   ]
  },
  {
   "cell_type": "code",
   "execution_count": 67,
   "metadata": {
    "collapsed": true
   },
   "outputs": [],
   "source": [
    "# Save winning model as final_model.pkl\n",
    "with open('final_model.pkl', 'wb') as f:\n",
    "    pickle.dump(fitted_models_bcox['l2'].best_estimator_, f)"
   ]
  },
  {
   "cell_type": "code",
   "execution_count": 68,
   "metadata": {
    "collapsed": true
   },
   "outputs": [],
   "source": [
    "# Load final_model.pkl as model\n",
    "with open('final_model.pkl', 'rb') as f:\n",
    "    model = pickle.load(f)"
   ]
  },
  {
   "cell_type": "code",
   "execution_count": 69,
   "metadata": {},
   "outputs": [
    {
     "data": {
      "text/plain": [
       "Pipeline(memory=None,\n",
       "     steps=[('standardscaler', StandardScaler(copy=True, with_mean=True, with_std=True)), ('logisticregression', LogisticRegression(C=0.01, class_weight=None, dual=False, fit_intercept=True,\n",
       "          intercept_scaling=1, max_iter=100, multi_class='ovr', n_jobs=1,\n",
       "          penalty='l2', random_state=123, solver='liblinear', tol=0.0001,\n",
       "          verbose=0, warm_start=False))])"
      ]
     },
     "execution_count": 69,
     "metadata": {},
     "output_type": "execute_result"
    }
   ],
   "source": [
    "# Display model object\n",
    "model"
   ]
  },
  {
   "cell_type": "markdown",
   "metadata": {},
   "source": [
    "## Next steps:\n",
    "1. Optimize classifier threshold for better TPR and a better trading performance \n",
    "2. Construct a class that packages together all preprocessing steps from previous modules - MinMax scaling, Box Cox transformation, etc. - that can be used to score unseen data "
   ]
  },
  {
   "cell_type": "code",
   "execution_count": null,
   "metadata": {
    "collapsed": true
   },
   "outputs": [],
   "source": []
  }
 ],
 "metadata": {
  "kernelspec": {
   "display_name": "Python 3",
   "language": "python",
   "name": "python3"
  },
  "language_info": {
   "codemirror_mode": {
    "name": "ipython",
    "version": 3
   },
   "file_extension": ".py",
   "mimetype": "text/x-python",
   "name": "python",
   "nbconvert_exporter": "python",
   "pygments_lexer": "ipython3",
   "version": "3.6.3"
  }
 },
 "nbformat": 4,
 "nbformat_minor": 2
}
